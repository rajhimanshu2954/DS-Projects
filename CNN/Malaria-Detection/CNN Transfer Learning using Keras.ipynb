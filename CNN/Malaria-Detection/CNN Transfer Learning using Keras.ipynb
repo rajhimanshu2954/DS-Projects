{
 "cells": [
  {
   "cell_type": "code",
   "execution_count": 1,
   "metadata": {},
   "outputs": [],
   "source": [
    "# import the libraries as shown below\n",
    "import tensorflow\n",
    "from tensorflow.keras.layers import Input, Lambda, Dense, Flatten,Conv2D\n",
    "from tensorflow.keras.models import Model\n",
    "from tensorflow.keras.applications.vgg19 import VGG19\n",
    "from tensorflow.keras.applications.vgg16 import VGG16\n",
    "from tensorflow.keras.applications.resnet50 import preprocess_input\n",
    "from tensorflow.keras.preprocessing import image\n",
    "from tensorflow.keras.preprocessing.image import ImageDataGenerator,load_img\n",
    "from tensorflow.keras.models import Sequential\n",
    "import numpy as np\n",
    "from glob import glob\n",
    "import matplotlib.pyplot as plt"
   ]
  },
  {
   "cell_type": "code",
   "execution_count": 2,
   "metadata": {},
   "outputs": [],
   "source": [
    "# re-size all the images to this\n",
    "IMAGE_SIZE = [224, 224]\n",
    "\n",
    "train_path = 'Dataset/Train'\n",
    "valid_path = 'Dataset/Test'"
   ]
  },
  {
   "cell_type": "code",
   "execution_count": 3,
   "metadata": {},
   "outputs": [
    {
     "name": "stdout",
     "output_type": "stream",
     "text": [
      "WARNING:tensorflow:From C:\\Users\\rajhi\\anaconda3\\envs\\tensorflow\\lib\\site-packages\\tensorflow_core\\python\\ops\\resource_variable_ops.py:1630: calling BaseResourceVariable.__init__ (from tensorflow.python.ops.resource_variable_ops) with constraint is deprecated and will be removed in a future version.\n",
      "Instructions for updating:\n",
      "If using Keras pass *_constraint arguments to layers.\n"
     ]
    }
   ],
   "source": [
    "# Import the Vgg 16 library as shown below and add preprocessing layer to the front of VGG\n",
    "# Here we will be using imagenet weights\n",
    "\n",
    "mobilnet = VGG19(input_shape=IMAGE_SIZE + [3], weights='imagenet', include_top=False)"
   ]
  },
  {
   "cell_type": "code",
   "execution_count": 11,
   "metadata": {},
   "outputs": [],
   "source": [
    "mobilnet = VGG16(input_shape=IMAGE_SIZE + [3], weights='imagenet', include_top=False)"
   ]
  },
  {
   "cell_type": "code",
   "execution_count": 12,
   "metadata": {},
   "outputs": [],
   "source": [
    "# don't train existing weights\n",
    "for layer in mobilnet.layers:\n",
    "    layer.trainable = False"
   ]
  },
  {
   "cell_type": "code",
   "execution_count": 13,
   "metadata": {},
   "outputs": [],
   "source": [
    "  # useful for getting number of output classes\n",
    "folders = glob('Dataset/Train/*')"
   ]
  },
  {
   "cell_type": "code",
   "execution_count": 14,
   "metadata": {},
   "outputs": [
    {
     "data": {
      "text/plain": [
       "['Dataset/Train\\\\Parasitized', 'Dataset/Train\\\\Uninfected']"
      ]
     },
     "execution_count": 14,
     "metadata": {},
     "output_type": "execute_result"
    }
   ],
   "source": [
    "folders"
   ]
  },
  {
   "cell_type": "code",
   "execution_count": 15,
   "metadata": {},
   "outputs": [],
   "source": [
    "# our layers - you can add more if you want\n",
    "x = Flatten()(mobilnet.output)"
   ]
  },
  {
   "cell_type": "code",
   "execution_count": 16,
   "metadata": {},
   "outputs": [],
   "source": [
    "prediction = Dense(len(folders), activation='softmax')(x)\n",
    "\n",
    "# create a model object\n",
    "model = Model(inputs=mobilnet.input, outputs=prediction)"
   ]
  },
  {
   "cell_type": "code",
   "execution_count": 17,
   "metadata": {},
   "outputs": [
    {
     "name": "stdout",
     "output_type": "stream",
     "text": [
      "Model: \"model_1\"\n",
      "_________________________________________________________________\n",
      "Layer (type)                 Output Shape              Param #   \n",
      "=================================================================\n",
      "input_3 (InputLayer)         [(None, 224, 224, 3)]     0         \n",
      "_________________________________________________________________\n",
      "block1_conv1 (Conv2D)        (None, 224, 224, 64)      1792      \n",
      "_________________________________________________________________\n",
      "block1_conv2 (Conv2D)        (None, 224, 224, 64)      36928     \n",
      "_________________________________________________________________\n",
      "block1_pool (MaxPooling2D)   (None, 112, 112, 64)      0         \n",
      "_________________________________________________________________\n",
      "block2_conv1 (Conv2D)        (None, 112, 112, 128)     73856     \n",
      "_________________________________________________________________\n",
      "block2_conv2 (Conv2D)        (None, 112, 112, 128)     147584    \n",
      "_________________________________________________________________\n",
      "block2_pool (MaxPooling2D)   (None, 56, 56, 128)       0         \n",
      "_________________________________________________________________\n",
      "block3_conv1 (Conv2D)        (None, 56, 56, 256)       295168    \n",
      "_________________________________________________________________\n",
      "block3_conv2 (Conv2D)        (None, 56, 56, 256)       590080    \n",
      "_________________________________________________________________\n",
      "block3_conv3 (Conv2D)        (None, 56, 56, 256)       590080    \n",
      "_________________________________________________________________\n",
      "block3_pool (MaxPooling2D)   (None, 28, 28, 256)       0         \n",
      "_________________________________________________________________\n",
      "block4_conv1 (Conv2D)        (None, 28, 28, 512)       1180160   \n",
      "_________________________________________________________________\n",
      "block4_conv2 (Conv2D)        (None, 28, 28, 512)       2359808   \n",
      "_________________________________________________________________\n",
      "block4_conv3 (Conv2D)        (None, 28, 28, 512)       2359808   \n",
      "_________________________________________________________________\n",
      "block4_pool (MaxPooling2D)   (None, 14, 14, 512)       0         \n",
      "_________________________________________________________________\n",
      "block5_conv1 (Conv2D)        (None, 14, 14, 512)       2359808   \n",
      "_________________________________________________________________\n",
      "block5_conv2 (Conv2D)        (None, 14, 14, 512)       2359808   \n",
      "_________________________________________________________________\n",
      "block5_conv3 (Conv2D)        (None, 14, 14, 512)       2359808   \n",
      "_________________________________________________________________\n",
      "block5_pool (MaxPooling2D)   (None, 7, 7, 512)         0         \n",
      "_________________________________________________________________\n",
      "flatten_1 (Flatten)          (None, 25088)             0         \n",
      "_________________________________________________________________\n",
      "dense_1 (Dense)              (None, 2)                 50178     \n",
      "=================================================================\n",
      "Total params: 14,764,866\n",
      "Trainable params: 50,178\n",
      "Non-trainable params: 14,714,688\n",
      "_________________________________________________________________\n"
     ]
    }
   ],
   "source": [
    "\n",
    "# view the structure of the model\n",
    "model.summary()\n"
   ]
  },
  {
   "cell_type": "code",
   "execution_count": 38,
   "metadata": {
    "scrolled": true
   },
   "outputs": [
    {
     "name": "stdout",
     "output_type": "stream",
     "text": [
      "Model: \"sequential_1\"\n",
      "_________________________________________________________________\n",
      "Layer (type)                 Output Shape              Param #   \n",
      "=================================================================\n",
      "conv2d_1 (Conv2D)            (None, 224, 224, 16)      208       \n",
      "_________________________________________________________________\n",
      "max_pooling2d (MaxPooling2D) (None, 112, 112, 16)      0         \n",
      "_________________________________________________________________\n",
      "conv2d_2 (Conv2D)            (None, 112, 112, 32)      2080      \n",
      "_________________________________________________________________\n",
      "max_pooling2d_1 (MaxPooling2 (None, 56, 56, 32)        0         \n",
      "_________________________________________________________________\n",
      "conv2d_3 (Conv2D)            (None, 56, 56, 64)        8256      \n",
      "_________________________________________________________________\n",
      "max_pooling2d_2 (MaxPooling2 (None, 28, 28, 64)        0         \n",
      "_________________________________________________________________\n",
      "flatten_1 (Flatten)          (None, 50176)             0         \n",
      "_________________________________________________________________\n",
      "dense_1 (Dense)              (None, 500)               25088500  \n",
      "_________________________________________________________________\n",
      "dense_2 (Dense)              (None, 2)                 1002      \n",
      "=================================================================\n",
      "Total params: 25,100,046\n",
      "Trainable params: 25,100,046\n",
      "Non-trainable params: 0\n",
      "_________________________________________________________________\n"
     ]
    }
   ],
   "source": [
    "from tensorflow.keras.layers import MaxPooling2D\n",
    "### Create Model from scratch using CNN\n",
    "model=Sequential()\n",
    "model.add(Conv2D(filters=16,kernel_size=2,padding=\"same\",activation=\"relu\",input_shape=(224,224,3)))\n",
    "model.add(MaxPooling2D(pool_size=2))\n",
    "model.add(Conv2D(filters=32,kernel_size=2,padding=\"same\",activation =\"relu\"))\n",
    "model.add(MaxPooling2D(pool_size=2))\n",
    "model.add(Conv2D(filters=64,kernel_size=2,padding=\"same\",activation=\"relu\"))\n",
    "model.add(MaxPooling2D(pool_size=2))\n",
    "model.add(Flatten())\n",
    "model.add(Dense(500,activation=\"relu\"))\n",
    "model.add(Dense(2,activation=\"softmax\"))\n",
    "model.summary()"
   ]
  },
  {
   "cell_type": "code",
   "execution_count": 18,
   "metadata": {},
   "outputs": [],
   "source": [
    "# tell the model what cost and optimization method to use\n",
    "model.compile(\n",
    "  loss='categorical_crossentropy',\n",
    "  optimizer='adam',\n",
    "  metrics=['accuracy']\n",
    ")"
   ]
  },
  {
   "cell_type": "code",
   "execution_count": 19,
   "metadata": {},
   "outputs": [],
   "source": [
    "# Use the Image Data Generator to import the images from the dataset\n",
    "from tensorflow.keras.preprocessing.image import ImageDataGenerator\n",
    "\n",
    "train_datagen = ImageDataGenerator(rescale = 1./255,\n",
    "                                   shear_range = 0.2,\n",
    "                                   zoom_range = 0.2,\n",
    "                                   horizontal_flip = True)\n",
    "\n",
    "test_datagen = ImageDataGenerator(rescale = 1./255)"
   ]
  },
  {
   "cell_type": "code",
   "execution_count": 20,
   "metadata": {},
   "outputs": [
    {
     "name": "stdout",
     "output_type": "stream",
     "text": [
      "Found 12000 images belonging to 2 classes.\n"
     ]
    }
   ],
   "source": [
    "# Make sure you provide the same target size as initialied for the image size\n",
    "training_set = train_datagen.flow_from_directory('Dataset/Train',\n",
    "                                                 target_size = (224, 224),\n",
    "                                                 batch_size = 32,\n",
    "                                                 class_mode = 'categorical')"
   ]
  },
  {
   "cell_type": "code",
   "execution_count": 21,
   "metadata": {},
   "outputs": [
    {
     "data": {
      "text/plain": [
       "<keras_preprocessing.image.directory_iterator.DirectoryIterator at 0x1b218cdc0c8>"
      ]
     },
     "execution_count": 21,
     "metadata": {},
     "output_type": "execute_result"
    }
   ],
   "source": [
    "training_set"
   ]
  },
  {
   "cell_type": "code",
   "execution_count": 22,
   "metadata": {},
   "outputs": [
    {
     "name": "stdout",
     "output_type": "stream",
     "text": [
      "Found 134 images belonging to 2 classes.\n"
     ]
    }
   ],
   "source": [
    "test_set = test_datagen.flow_from_directory('Dataset/Test',\n",
    "                                            target_size = (224, 224),\n",
    "                                            batch_size = 32,\n",
    "                                            class_mode = 'categorical')"
   ]
  },
  {
   "cell_type": "code",
   "execution_count": 23,
   "metadata": {
    "scrolled": true
   },
   "outputs": [
    {
     "name": "stdout",
     "output_type": "stream",
     "text": [
      "Epoch 1/15\n",
      "374/375 [============================>.] - ETA: 0s - loss: 0.3859 - acc: 0.8389Epoch 1/15\n",
      "375/375 [==============================] - 319s 851ms/step - loss: 0.3853 - acc: 0.8392 - val_loss: 0.1604 - val_acc: 0.9254\n",
      "Epoch 2/15\n",
      "374/375 [============================>.] - ETA: 0s - loss: 0.2454 - acc: 0.9022Epoch 1/15\n",
      "375/375 [==============================] - 185s 494ms/step - loss: 0.2457 - acc: 0.9019 - val_loss: 0.1616 - val_acc: 0.9254\n",
      "Epoch 3/15\n",
      "374/375 [============================>.] - ETA: 0s - loss: 0.2343 - acc: 0.9101Epoch 1/15\n",
      "375/375 [==============================] - 178s 476ms/step - loss: 0.2348 - acc: 0.9102 - val_loss: 0.1682 - val_acc: 0.9403\n",
      "Epoch 4/15\n",
      "374/375 [============================>.] - ETA: 0s - loss: 0.2434 - acc: 0.9049Epoch 1/15\n",
      "375/375 [==============================] - 178s 476ms/step - loss: 0.2431 - acc: 0.9051 - val_loss: 0.0821 - val_acc: 0.9478\n",
      "Epoch 5/15\n",
      "374/375 [============================>.] - ETA: 0s - loss: 0.2212 - acc: 0.9160Epoch 1/15\n",
      "375/375 [==============================] - 179s 477ms/step - loss: 0.2220 - acc: 0.9159 - val_loss: 0.3243 - val_acc: 0.8507\n",
      "Epoch 6/15\n",
      "374/375 [============================>.] - ETA: 0s - loss: 0.2191 - acc: 0.9207Epoch 1/15\n",
      "375/375 [==============================] - 178s 474ms/step - loss: 0.2190 - acc: 0.9206 - val_loss: 0.2509 - val_acc: 0.8881\n",
      "Epoch 7/15\n",
      "374/375 [============================>.] - ETA: 0s - loss: 0.2150 - acc: 0.9220Epoch 1/15\n",
      "375/375 [==============================] - 182s 484ms/step - loss: 0.2151 - acc: 0.9219 - val_loss: 0.2765 - val_acc: 0.8806\n",
      "Epoch 8/15\n",
      "374/375 [============================>.] - ETA: 0s - loss: 0.1908 - acc: 0.9315Epoch 1/15\n",
      "375/375 [==============================] - 178s 474ms/step - loss: 0.1908 - acc: 0.9313 - val_loss: 0.1561 - val_acc: 0.9478\n",
      "Epoch 9/15\n",
      "374/375 [============================>.] - ETA: 0s - loss: 0.2120 - acc: 0.9240Epoch 1/15\n",
      "375/375 [==============================] - 179s 478ms/step - loss: 0.2120 - acc: 0.9239 - val_loss: 0.1798 - val_acc: 0.9179\n",
      "Epoch 10/15\n",
      "374/375 [============================>.] - ETA: 0s - loss: 0.1866 - acc: 0.9347Epoch 1/15\n",
      "375/375 [==============================] - 179s 477ms/step - loss: 0.1872 - acc: 0.9344 - val_loss: 0.2403 - val_acc: 0.9328\n",
      "Epoch 11/15\n",
      "374/375 [============================>.] - ETA: 0s - loss: 0.1929 - acc: 0.9333Epoch 1/15\n",
      "375/375 [==============================] - 177s 471ms/step - loss: 0.1930 - acc: 0.9333 - val_loss: 0.0929 - val_acc: 0.9552\n",
      "Epoch 12/15\n",
      "374/375 [============================>.] - ETA: 0s - loss: 0.1933 - acc: 0.9301Epoch 1/15\n",
      "375/375 [==============================] - 178s 474ms/step - loss: 0.1934 - acc: 0.9302 - val_loss: 0.0630 - val_acc: 0.9627\n",
      "Epoch 13/15\n",
      "374/375 [============================>.] - ETA: 0s - loss: 0.2036 - acc: 0.9271Epoch 1/15\n",
      "375/375 [==============================] - 180s 480ms/step - loss: 0.2033 - acc: 0.9272 - val_loss: 0.2425 - val_acc: 0.9179\n",
      "Epoch 14/15\n",
      "374/375 [============================>.] - ETA: 0s - loss: 0.1935 - acc: 0.9306Epoch 1/15\n",
      "375/375 [==============================] - 180s 479ms/step - loss: 0.1931 - acc: 0.9308 - val_loss: 0.0890 - val_acc: 0.9552\n",
      "Epoch 15/15\n",
      "374/375 [============================>.] - ETA: 0s - loss: 0.1800 - acc: 0.9357Epoch 1/15\n",
      "375/375 [==============================] - 177s 471ms/step - loss: 0.1799 - acc: 0.9358 - val_loss: 0.0834 - val_acc: 0.9627\n"
     ]
    }
   ],
   "source": [
    "# fit the model\n",
    "r = model.fit_generator(\n",
    "  training_set,\n",
    "  validation_data=test_set,\n",
    "  epochs=15,\n",
    "  steps_per_epoch=len(training_set),\n",
    "  validation_steps=len(test_set)\n",
    ")"
   ]
  },
  {
   "cell_type": "code",
   "execution_count": 16,
   "metadata": {},
   "outputs": [
    {
     "ename": "NameError",
     "evalue": "name 'r' is not defined",
     "output_type": "error",
     "traceback": [
      "\u001b[1;31m---------------------------------------------------------------------------\u001b[0m",
      "\u001b[1;31mNameError\u001b[0m                                 Traceback (most recent call last)",
      "\u001b[1;32m<ipython-input-16-deae6c4c674e>\u001b[0m in \u001b[0;36m<module>\u001b[1;34m\u001b[0m\n\u001b[0;32m      1\u001b[0m \u001b[1;31m# plot the loss\u001b[0m\u001b[1;33m\u001b[0m\u001b[1;33m\u001b[0m\u001b[1;33m\u001b[0m\u001b[0m\n\u001b[1;32m----> 2\u001b[1;33m \u001b[0mplt\u001b[0m\u001b[1;33m.\u001b[0m\u001b[0mplot\u001b[0m\u001b[1;33m(\u001b[0m\u001b[0mr\u001b[0m\u001b[1;33m.\u001b[0m\u001b[0mhistory\u001b[0m\u001b[1;33m[\u001b[0m\u001b[1;34m'loss'\u001b[0m\u001b[1;33m]\u001b[0m\u001b[1;33m,\u001b[0m \u001b[0mlabel\u001b[0m\u001b[1;33m=\u001b[0m\u001b[1;34m'train loss'\u001b[0m\u001b[1;33m)\u001b[0m\u001b[1;33m\u001b[0m\u001b[1;33m\u001b[0m\u001b[0m\n\u001b[0m\u001b[0;32m      3\u001b[0m \u001b[0mplt\u001b[0m\u001b[1;33m.\u001b[0m\u001b[0mplot\u001b[0m\u001b[1;33m(\u001b[0m\u001b[0mr\u001b[0m\u001b[1;33m.\u001b[0m\u001b[0mhistory\u001b[0m\u001b[1;33m[\u001b[0m\u001b[1;34m'val_loss'\u001b[0m\u001b[1;33m]\u001b[0m\u001b[1;33m,\u001b[0m \u001b[0mlabel\u001b[0m\u001b[1;33m=\u001b[0m\u001b[1;34m'val loss'\u001b[0m\u001b[1;33m)\u001b[0m\u001b[1;33m\u001b[0m\u001b[1;33m\u001b[0m\u001b[0m\n\u001b[0;32m      4\u001b[0m \u001b[0mplt\u001b[0m\u001b[1;33m.\u001b[0m\u001b[0mlegend\u001b[0m\u001b[1;33m(\u001b[0m\u001b[1;33m)\u001b[0m\u001b[1;33m\u001b[0m\u001b[1;33m\u001b[0m\u001b[0m\n\u001b[0;32m      5\u001b[0m \u001b[0mplt\u001b[0m\u001b[1;33m.\u001b[0m\u001b[0mshow\u001b[0m\u001b[1;33m(\u001b[0m\u001b[1;33m)\u001b[0m\u001b[1;33m\u001b[0m\u001b[1;33m\u001b[0m\u001b[0m\n",
      "\u001b[1;31mNameError\u001b[0m: name 'r' is not defined"
     ]
    }
   ],
   "source": [
    "# plot the loss\n",
    "plt.plot(r.history['loss'], label='train loss')\n",
    "plt.plot(r.history['val_loss'], label='val loss')\n",
    "plt.legend()\n",
    "plt.show()\n",
    "plt.savefig('LossVal_loss')\n",
    "\n",
    "# plot the accuracy\n",
    "plt.plot(r.history['acc'], label='train acc')\n",
    "plt.plot(r.history['val_acc'], label='val acc')\n",
    "plt.legend()\n",
    "plt.show()\n",
    "plt.savefig('AccVal_acc')"
   ]
  },
  {
   "cell_type": "code",
   "execution_count": 41,
   "metadata": {},
   "outputs": [],
   "source": [
    "# save it as a h5 file\n",
    "from tensorflow.keras.models import load_model\n",
    "model.save('model_vgg19.h5')"
   ]
  },
  {
   "cell_type": "code",
   "execution_count": 42,
   "metadata": {},
   "outputs": [
    {
     "data": {
      "text/plain": [
       "array([[1.79005275e-03, 9.98209953e-01],\n",
       "       [1.00000000e+00, 5.34284924e-21],\n",
       "       [9.50902283e-01, 4.90977168e-02],\n",
       "       [8.45287694e-04, 9.99154687e-01],\n",
       "       [1.15213892e-03, 9.98847842e-01],\n",
       "       [8.55814040e-01, 1.44185916e-01],\n",
       "       [9.95253801e-01, 4.74627176e-03],\n",
       "       [9.99892831e-01, 1.07166386e-04],\n",
       "       [9.99782026e-01, 2.18039073e-04],\n",
       "       [1.61711499e-03, 9.98382926e-01],\n",
       "       [1.00000000e+00, 3.28431162e-12],\n",
       "       [2.29716543e-02, 9.77028310e-01],\n",
       "       [4.39418806e-03, 9.95605767e-01],\n",
       "       [1.00000000e+00, 2.12178559e-08],\n",
       "       [1.60869136e-01, 8.39130819e-01],\n",
       "       [1.24211004e-02, 9.87578928e-01],\n",
       "       [9.97679293e-01, 2.32068705e-03],\n",
       "       [9.99998569e-01, 1.40787347e-06],\n",
       "       [7.53145246e-03, 9.92468536e-01],\n",
       "       [1.97634008e-03, 9.98023629e-01],\n",
       "       [9.81871367e-01, 1.81286968e-02],\n",
       "       [9.99036908e-01, 9.63069091e-04],\n",
       "       [1.00000000e+00, 9.57016955e-09],\n",
       "       [9.99884605e-01, 1.15425311e-04],\n",
       "       [1.92246574e-04, 9.99807775e-01],\n",
       "       [9.22140002e-01, 7.78599679e-02],\n",
       "       [9.40574765e-01, 5.94252869e-02],\n",
       "       [9.99513507e-01, 4.86513425e-04],\n",
       "       [7.89138675e-01, 2.10861310e-01],\n",
       "       [9.98992026e-01, 1.00795401e-03],\n",
       "       [1.76806748e-01, 8.23193192e-01],\n",
       "       [1.00000000e+00, 2.33970575e-15],\n",
       "       [2.79158773e-03, 9.97208416e-01],\n",
       "       [9.99532223e-01, 4.67838428e-04],\n",
       "       [9.99999881e-01, 1.63099187e-07],\n",
       "       [1.84074568e-03, 9.98159230e-01],\n",
       "       [1.73601508e-03, 9.98264015e-01],\n",
       "       [9.99654055e-01, 3.45951994e-04],\n",
       "       [9.89539921e-01, 1.04600294e-02],\n",
       "       [9.98192966e-01, 1.80702074e-03],\n",
       "       [1.64016318e-02, 9.83598411e-01],\n",
       "       [9.99992371e-01, 7.57633052e-06],\n",
       "       [1.08835040e-04, 9.99891162e-01],\n",
       "       [3.74900877e-01, 6.25099123e-01],\n",
       "       [9.99965787e-01, 3.42700623e-05],\n",
       "       [9.06739712e-01, 9.32602882e-02],\n",
       "       [4.14884947e-02, 9.58511531e-01],\n",
       "       [9.99462426e-01, 5.37563232e-04],\n",
       "       [8.48376691e-01, 1.51623338e-01],\n",
       "       [9.56454575e-01, 4.35454361e-02],\n",
       "       [6.07016981e-01, 3.92982990e-01],\n",
       "       [1.69388596e-02, 9.83061135e-01],\n",
       "       [1.45454472e-03, 9.98545527e-01],\n",
       "       [1.00000000e+00, 3.35536945e-11],\n",
       "       [5.29943943e-01, 4.70056087e-01],\n",
       "       [9.99995232e-01, 4.74895205e-06],\n",
       "       [1.00000000e+00, 4.69998227e-13],\n",
       "       [6.93797469e-01, 3.06202501e-01],\n",
       "       [9.99821246e-01, 1.78815913e-04],\n",
       "       [9.99949217e-01, 5.08207740e-05],\n",
       "       [2.67037064e-01, 7.32962906e-01],\n",
       "       [9.99980330e-01, 1.96203709e-05],\n",
       "       [9.95569289e-01, 4.43075038e-03],\n",
       "       [9.99978185e-01, 2.17917077e-05],\n",
       "       [9.99991417e-01, 8.60797172e-06],\n",
       "       [9.99821365e-01, 1.78713119e-04],\n",
       "       [1.01561204e-03, 9.98984396e-01],\n",
       "       [1.26236305e-03, 9.98737633e-01],\n",
       "       [9.75290081e-04, 9.99024749e-01],\n",
       "       [9.99982238e-01, 1.77317852e-05],\n",
       "       [2.92554908e-02, 9.70744491e-01],\n",
       "       [9.99857306e-01, 1.42668490e-04],\n",
       "       [6.73559248e-01, 3.26440752e-01],\n",
       "       [9.99746859e-01, 2.53143342e-04],\n",
       "       [9.99948740e-01, 5.12639563e-05],\n",
       "       [9.96007919e-01, 3.99205461e-03],\n",
       "       [9.99945998e-01, 5.40315850e-05],\n",
       "       [7.66696811e-01, 2.33303189e-01],\n",
       "       [1.94487255e-03, 9.98055100e-01],\n",
       "       [9.99999881e-01, 9.89109736e-08],\n",
       "       [9.99997258e-01, 2.78561924e-06],\n",
       "       [1.92390829e-01, 8.07609141e-01],\n",
       "       [2.77673616e-03, 9.97223258e-01],\n",
       "       [1.00000000e+00, 1.65608309e-08],\n",
       "       [2.28464138e-03, 9.97715354e-01],\n",
       "       [3.58778838e-04, 9.99641180e-01],\n",
       "       [2.59181508e-03, 9.97408211e-01],\n",
       "       [1.00000000e+00, 1.03648867e-08],\n",
       "       [9.99999642e-01, 3.10336844e-07],\n",
       "       [4.59395465e-04, 9.99540687e-01],\n",
       "       [1.27397161e-02, 9.87260222e-01],\n",
       "       [9.92947102e-01, 7.05285324e-03],\n",
       "       [9.07404184e-01, 9.25957933e-02],\n",
       "       [8.13262641e-01, 1.86737344e-01],\n",
       "       [6.64851454e-04, 9.99335110e-01],\n",
       "       [9.99922633e-01, 7.73941283e-05],\n",
       "       [9.99945164e-01, 5.47822237e-05],\n",
       "       [9.99429286e-01, 5.70712611e-04],\n",
       "       [9.99620557e-01, 3.79409146e-04],\n",
       "       [3.25465985e-02, 9.67453480e-01],\n",
       "       [9.99996781e-01, 3.20428580e-06],\n",
       "       [9.99942541e-01, 5.74807054e-05],\n",
       "       [6.36467186e-04, 9.99363601e-01],\n",
       "       [9.98025179e-01, 1.97481527e-03],\n",
       "       [9.99997377e-01, 2.66171719e-06],\n",
       "       [9.99563634e-01, 4.36296308e-04],\n",
       "       [4.00511024e-04, 9.99599516e-01],\n",
       "       [2.69448548e-03, 9.97305512e-01],\n",
       "       [9.96061385e-01, 3.93859530e-03],\n",
       "       [9.99995708e-01, 4.28378962e-06],\n",
       "       [2.87417248e-02, 9.71258283e-01],\n",
       "       [9.91594970e-01, 8.40506982e-03],\n",
       "       [9.02838632e-03, 9.90971565e-01],\n",
       "       [1.00000000e+00, 9.00298031e-11],\n",
       "       [1.93563312e-01, 8.06436718e-01],\n",
       "       [2.32263919e-04, 9.99767721e-01],\n",
       "       [9.70032930e-01, 2.99670454e-02],\n",
       "       [9.99989390e-01, 1.05754925e-05],\n",
       "       [3.19698243e-03, 9.96803045e-01],\n",
       "       [2.18559609e-04, 9.99781430e-01],\n",
       "       [9.83665232e-03, 9.90163326e-01],\n",
       "       [9.52660263e-01, 4.73397337e-02],\n",
       "       [1.54158985e-03, 9.98458385e-01],\n",
       "       [9.99967098e-01, 3.29545401e-05],\n",
       "       [9.99891520e-01, 1.08418426e-04],\n",
       "       [8.66089463e-01, 1.33910507e-01],\n",
       "       [9.99995947e-01, 4.03690319e-06],\n",
       "       [1.65520217e-02, 9.83448029e-01],\n",
       "       [2.96829123e-04, 9.99703109e-01],\n",
       "       [3.79104406e-01, 6.20895565e-01],\n",
       "       [9.99738395e-01, 2.61556357e-04],\n",
       "       [7.31892069e-04, 9.99268115e-01],\n",
       "       [1.00000000e+00, 1.04236830e-13],\n",
       "       [6.59208884e-03, 9.93407965e-01]], dtype=float32)"
      ]
     },
     "execution_count": 42,
     "metadata": {},
     "output_type": "execute_result"
    }
   ],
   "source": [
    "y_pred = model.predict(test_set)\n",
    "y_pred"
   ]
  },
  {
   "cell_type": "code",
   "execution_count": 20,
   "metadata": {},
   "outputs": [],
   "source": [
    "import numpy as np\n",
    "y_pred = np.argmax(y_pred, axis=1)"
   ]
  },
  {
   "cell_type": "markdown",
   "metadata": {},
   "source": [
    "## TBC"
   ]
  },
  {
   "cell_type": "code",
   "execution_count": 21,
   "metadata": {},
   "outputs": [
    {
     "data": {
      "text/plain": [
       "array([0, 0, 0, 0, 0, 1, 1, 1, 0, 0, 0, 0, 0, 0, 1, 0, 1, 0, 0, 0, 0, 0,\n",
       "       1, 0, 0, 0, 1, 0, 0, 0, 0, 1, 0, 1, 1, 0, 0, 0, 0, 1, 1, 0, 0, 0,\n",
       "       0, 0, 0, 0, 0, 1, 1, 1, 1, 0, 1, 0, 0, 0, 0, 0, 1, 0, 0, 1, 0, 1,\n",
       "       1, 0, 0, 0, 0, 1, 1, 0, 0, 0, 0, 1, 1, 0, 0, 0, 1, 0, 0, 0, 0, 0,\n",
       "       1, 0, 0, 1, 0, 1, 1, 1, 0, 0, 1, 0, 0, 0, 0, 1, 1, 0, 0, 0, 1, 0,\n",
       "       0, 0, 0, 1, 0, 0, 0, 0, 0, 0, 0, 0, 1, 1, 0, 0, 1, 1, 0, 1, 0, 0,\n",
       "       1, 1], dtype=int64)"
      ]
     },
     "execution_count": 21,
     "metadata": {},
     "output_type": "execute_result"
    }
   ],
   "source": [
    "y_pred"
   ]
  },
  {
   "cell_type": "code",
   "execution_count": null,
   "metadata": {},
   "outputs": [],
   "source": []
  },
  {
   "cell_type": "code",
   "execution_count": 36,
   "metadata": {},
   "outputs": [],
   "source": [
    "from tensorflow.keras.models import load_model\n",
    "from tensorflow.keras.preprocessing import image"
   ]
  },
  {
   "cell_type": "code",
   "execution_count": 22,
   "metadata": {},
   "outputs": [],
   "source": [
    "model=load_model('model_vgg19.h5')"
   ]
  },
  {
   "cell_type": "code",
   "execution_count": null,
   "metadata": {},
   "outputs": [],
   "source": []
  },
  {
   "cell_type": "code",
   "execution_count": 26,
   "metadata": {},
   "outputs": [],
   "source": [
    "img=image.load_img('Dataset/Test/Uninfected/2.png',target_size=(224,224))\n",
    "\n"
   ]
  },
  {
   "cell_type": "code",
   "execution_count": 27,
   "metadata": {},
   "outputs": [
    {
     "data": {
      "text/plain": [
       "array([[[0., 0., 0.],\n",
       "        [0., 0., 0.],\n",
       "        [0., 0., 0.],\n",
       "        ...,\n",
       "        [0., 0., 0.],\n",
       "        [0., 0., 0.],\n",
       "        [0., 0., 0.]],\n",
       "\n",
       "       [[0., 0., 0.],\n",
       "        [0., 0., 0.],\n",
       "        [0., 0., 0.],\n",
       "        ...,\n",
       "        [0., 0., 0.],\n",
       "        [0., 0., 0.],\n",
       "        [0., 0., 0.]],\n",
       "\n",
       "       [[0., 0., 0.],\n",
       "        [0., 0., 0.],\n",
       "        [0., 0., 0.],\n",
       "        ...,\n",
       "        [0., 0., 0.],\n",
       "        [0., 0., 0.],\n",
       "        [0., 0., 0.]],\n",
       "\n",
       "       ...,\n",
       "\n",
       "       [[0., 0., 0.],\n",
       "        [0., 0., 0.],\n",
       "        [0., 0., 0.],\n",
       "        ...,\n",
       "        [0., 0., 0.],\n",
       "        [0., 0., 0.],\n",
       "        [0., 0., 0.]],\n",
       "\n",
       "       [[0., 0., 0.],\n",
       "        [0., 0., 0.],\n",
       "        [0., 0., 0.],\n",
       "        ...,\n",
       "        [0., 0., 0.],\n",
       "        [0., 0., 0.],\n",
       "        [0., 0., 0.]],\n",
       "\n",
       "       [[0., 0., 0.],\n",
       "        [0., 0., 0.],\n",
       "        [0., 0., 0.],\n",
       "        ...,\n",
       "        [0., 0., 0.],\n",
       "        [0., 0., 0.],\n",
       "        [0., 0., 0.]]], dtype=float32)"
      ]
     },
     "execution_count": 27,
     "metadata": {},
     "output_type": "execute_result"
    }
   ],
   "source": [
    "x=image.img_to_array(img)\n",
    "x"
   ]
  },
  {
   "cell_type": "code",
   "execution_count": 28,
   "metadata": {},
   "outputs": [
    {
     "data": {
      "text/plain": [
       "(224, 224, 3)"
      ]
     },
     "execution_count": 28,
     "metadata": {},
     "output_type": "execute_result"
    }
   ],
   "source": [
    "x.shape"
   ]
  },
  {
   "cell_type": "code",
   "execution_count": 29,
   "metadata": {},
   "outputs": [],
   "source": [
    "x=x/255"
   ]
  },
  {
   "cell_type": "code",
   "execution_count": 30,
   "metadata": {},
   "outputs": [
    {
     "data": {
      "text/plain": [
       "(1, 224, 224, 3)"
      ]
     },
     "execution_count": 30,
     "metadata": {},
     "output_type": "execute_result"
    }
   ],
   "source": [
    "x=np.expand_dims(x,axis=0)\n",
    "img_data=preprocess_input(x)\n",
    "img_data.shape"
   ]
  },
  {
   "cell_type": "code",
   "execution_count": 31,
   "metadata": {},
   "outputs": [
    {
     "data": {
      "text/plain": [
       "array([[0.01155142, 0.98844856]], dtype=float32)"
      ]
     },
     "execution_count": 31,
     "metadata": {},
     "output_type": "execute_result"
    }
   ],
   "source": [
    "model.predict(img_data)"
   ]
  },
  {
   "cell_type": "code",
   "execution_count": 32,
   "metadata": {},
   "outputs": [],
   "source": [
    "a=np.argmax(model.predict(img_data), axis=1)"
   ]
  },
  {
   "cell_type": "code",
   "execution_count": 35,
   "metadata": {},
   "outputs": [
    {
     "name": "stdout",
     "output_type": "stream",
     "text": [
      "Uninfected\n"
     ]
    }
   ],
   "source": [
    "if(a==1):\n",
    "    print(\"Uninfected\")\n",
    "else:\n",
    "    print(\"Infected\")"
   ]
  },
  {
   "cell_type": "code",
   "execution_count": null,
   "metadata": {},
   "outputs": [],
   "source": []
  },
  {
   "cell_type": "code",
   "execution_count": null,
   "metadata": {},
   "outputs": [],
   "source": []
  }
 ],
 "metadata": {
  "kernelspec": {
   "display_name": "Python 3.7 (tensorflow)",
   "language": "python",
   "name": "tensorflow"
  },
  "language_info": {
   "codemirror_mode": {
    "name": "ipython",
    "version": 3
   },
   "file_extension": ".py",
   "mimetype": "text/x-python",
   "name": "python",
   "nbconvert_exporter": "python",
   "pygments_lexer": "ipython3",
   "version": "3.7.6"
  }
 },
 "nbformat": 4,
 "nbformat_minor": 2
}
