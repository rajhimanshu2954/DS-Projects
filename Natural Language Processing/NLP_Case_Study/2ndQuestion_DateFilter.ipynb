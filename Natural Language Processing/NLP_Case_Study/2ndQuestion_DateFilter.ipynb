{
 "cells": [
  {
   "cell_type": "code",
   "execution_count": 2,
   "metadata": {},
   "outputs": [
    {
     "name": "stdout",
     "output_type": "stream",
     "text": [
      "['23/03/20', '24/03/20', '25/03/2020', '2/04/20', '02/05/20', '26/5/20', '5/7/20']\n"
     ]
    }
   ],
   "source": [
    "import re\n",
    "f = open(\"dataDoc.txt\", \"r\")\n",
    "read = f.read()\n",
    "# Regex Pattern for identifying dates\n",
    "pattern = \"\\d{1,2}[/-:]\\d{1,2}[/-:]\\d{2,4}\"\n",
    "print(re.findall(pattern, read))"
   ]
  },
  {
   "cell_type": "code",
   "execution_count": null,
   "metadata": {},
   "outputs": [],
   "source": []
  }
 ],
 "metadata": {
  "kernelspec": {
   "display_name": "Python 3",
   "language": "python",
   "name": "python3"
  }
 },
 "nbformat": 4,
 "nbformat_minor": 2
}
